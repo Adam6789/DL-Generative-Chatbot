{
 "cells": [
  {
   "cell_type": "code",
   "execution_count": 1,
   "id": "9d7f3988",
   "metadata": {},
   "outputs": [],
   "source": [
    "#!pip install -U torch torchvision torchtext torchdata pytest torchsummary portalocker"
   ]
  },
  {
   "cell_type": "markdown",
   "id": "db1df04a",
   "metadata": {},
   "source": [
    "### Import libraries"
   ]
  },
  {
   "cell_type": "code",
   "execution_count": 2,
   "id": "d5f2edd4",
   "metadata": {},
   "outputs": [],
   "source": [
    "from data_chatbot import questions_answers, load_df, toTensor, show_lengths, tokenize_questions,tokenize_answers\n",
    "from data_chatbot import pretrained_w2v, prepare_text\n",
    "from models_chatbot import Seq2Seq\n",
    "from vocab_chatbot import Vocab\n",
    "\n",
    "\n",
    "from train_chatbot import pretrain, train\n",
    "from apply_chatbot import apply_chatbot\n",
    "\n"
   ]
  },
  {
   "cell_type": "markdown",
   "id": "6b2f855a",
   "metadata": {},
   "source": [
    "### Tests"
   ]
  },
  {
   "cell_type": "code",
   "execution_count": 3,
   "id": "897c8ae5",
   "metadata": {},
   "outputs": [
    {
     "name": "stdout",
     "output_type": "stream",
     "text": [
      "============================= test session starts =============================\n",
      "platform win32 -- Python 3.9.12, pytest-7.4.0, pluggy-1.0.0 -- C:\\ProgramData\\Anaconda3\\python.exe\n",
      "cachedir: .pytest_cache\n",
      "rootdir: C:\\Users\\adgryc\\Desktop\\Udacity\\GitHub Projects\\chatbot\n",
      "plugins: anyio-3.5.0\n",
      "collecting ... collected 2 items\n",
      "\n",
      "tests_chatbot.py::test_seq2seq_forward FAILED                            [ 50%]\n",
      "tests_chatbot.py::test_heteroDataLoader FAILED                           [100%]\n",
      "\n",
      "================================== FAILURES ===================================\n",
      "____________________________ test_seq2seq_forward _____________________________\n",
      "\n",
      "question = tensor([1, 2, 3]), answer = tensor([2, 4, 6])\n",
      "vocab_source = <vocab_chatbot.Vocab object at 0x000001E152B46340>\n",
      "vocab_target = <vocab_chatbot.Vocab object at 0x000001E152B46430>\n",
      "\n",
      "    def test_seq2seq_forward(question, answer, vocab_source, vocab_target):\n",
      "        # test training mode\n",
      ">       model = Seq2Seq(5, 3, 8, vocab_source, vocab_target, dropout_E=0, dropout_D=0, teacher_forcing_ratio=1)\n",
      "E       TypeError: __init__() got multiple values for argument 'dropout_E'\n",
      "\n",
      "tests_chatbot.py:33: TypeError\n",
      "____________________________ test_heteroDataLoader ____________________________\n",
      "\n",
      "single_samples = [tensor([1, 2, 3]), tensor([1, 2, 3]), tensor([1, 2, 3]), tensor([1, 2, 3]), tensor([1, 2, 3]), tensor([1, 2, 3]), ...]\n",
      "\n",
      "    def test_heteroDataLoader(single_samples):\n",
      "        shuffle = True\n",
      "        batch_size=8\n",
      ">       batches = heteroDataLoader(single_samples, batch_size, shuffle)\n",
      "\n",
      "tests_chatbot.py:79: \n",
      "_ _ _ _ _ _ _ _ _ _ _ _ _ _ _ _ _ _ _ _ _ _ _ _ _ _ _ _ _ _ _ _ _ _ _ _ _ _ _ _\n",
      "\n",
      "single_questions = [tensor([1, 2, 3]), tensor([1, 2, 3]), tensor([1, 2, 3]), tensor([1, 2, 3]), tensor([1, 2, 3]), tensor([1, 2, 3]), ...]\n",
      "single_answers = 8, batch_size = True, shuffle = True\n",
      "\n",
      "    def heteroDataLoader(single_questions, single_answers, batch_size, shuffle = True):\n",
      "    \n",
      "        \"\"\"\n",
      "        Inputs:\n",
      "        -------\n",
      "        dataset: list\n",
      "            A list of single samples.\n",
      "        Outputs:\n",
      "        --------\n",
      "        batches: list\n",
      "            A list of lists with each having multiple samples.\n",
      "        \"\"\"\n",
      "        len_batches = len(single_questions) // batch_size\n",
      "        indices = list(range(0,len(single_questions)))\n",
      "    \n",
      ">       temp = list(zip(single_questions, single_answers))\n",
      "E       TypeError: 'int' object is not iterable\n",
      "\n",
      "train_chatbot.py:156: TypeError\n",
      "=========================== short test summary info ===========================\n",
      "FAILED tests_chatbot.py::test_seq2seq_forward - TypeError: __init__() got mul...\n",
      "FAILED tests_chatbot.py::test_heteroDataLoader - TypeError: 'int' object is n...\n",
      "============================== 2 failed in 0.76s ==============================\n"
     ]
    }
   ],
   "source": [
    "!python -m pytest -vv tests_chatbot.py"
   ]
  },
  {
   "cell_type": "code",
   "execution_count": null,
   "id": "800392f6",
   "metadata": {},
   "outputs": [],
   "source": []
  },
  {
   "cell_type": "markdown",
   "id": "30c3aeb7",
   "metadata": {},
   "source": [
    "### Raw data"
   ]
  },
  {
   "cell_type": "code",
   "execution_count": 4,
   "id": "4846c83d",
   "metadata": {},
   "outputs": [],
   "source": [
    "# source_name = \"poc\"\n",
    "source_name = \"squad1\""
   ]
  },
  {
   "cell_type": "code",
   "execution_count": 5,
   "id": "c2991dc1",
   "metadata": {},
   "outputs": [
    {
     "name": "stderr",
     "output_type": "stream",
     "text": [
      "C:\\Users\\adgryc\\Desktop\\Udacity\\GitHub Projects\\chatbot\\data_chatbot.py:39: FutureWarning: The frame.append method is deprecated and will be removed from pandas in a future version. Use pandas.concat instead.\n",
      "  df_train.append(df_test)\n"
     ]
    },
    {
     "data": {
      "text/html": [
       "<div>\n",
       "<style scoped>\n",
       "    .dataframe tbody tr th:only-of-type {\n",
       "        vertical-align: middle;\n",
       "    }\n",
       "\n",
       "    .dataframe tbody tr th {\n",
       "        vertical-align: top;\n",
       "    }\n",
       "\n",
       "    .dataframe thead th {\n",
       "        text-align: right;\n",
       "    }\n",
       "</style>\n",
       "<table border=\"1\" class=\"dataframe\">\n",
       "  <thead>\n",
       "    <tr style=\"text-align: right;\">\n",
       "      <th></th>\n",
       "      <th>Question</th>\n",
       "      <th>Answer</th>\n",
       "    </tr>\n",
       "  </thead>\n",
       "  <tbody>\n",
       "    <tr>\n",
       "      <th>0</th>\n",
       "      <td>To whom did the Virgin Mary allegedly appear i...</td>\n",
       "      <td>Saint Bernadette Soubirous</td>\n",
       "    </tr>\n",
       "    <tr>\n",
       "      <th>1</th>\n",
       "      <td>What is in front of the Notre Dame Main Building?</td>\n",
       "      <td>a copper statue of Christ</td>\n",
       "    </tr>\n",
       "    <tr>\n",
       "      <th>2</th>\n",
       "      <td>The Basilica of the Sacred heart at Notre Dame...</td>\n",
       "      <td>the Main Building</td>\n",
       "    </tr>\n",
       "    <tr>\n",
       "      <th>3</th>\n",
       "      <td>What is the Grotto at Notre Dame?</td>\n",
       "      <td>a Marian place of prayer and reflection</td>\n",
       "    </tr>\n",
       "    <tr>\n",
       "      <th>4</th>\n",
       "      <td>What sits on top of the Main Building at Notre...</td>\n",
       "      <td>a golden statue of the Virgin Mary</td>\n",
       "    </tr>\n",
       "  </tbody>\n",
       "</table>\n",
       "</div>"
      ],
      "text/plain": [
       "                                            Question  \\\n",
       "0  To whom did the Virgin Mary allegedly appear i...   \n",
       "1  What is in front of the Notre Dame Main Building?   \n",
       "2  The Basilica of the Sacred heart at Notre Dame...   \n",
       "3                  What is the Grotto at Notre Dame?   \n",
       "4  What sits on top of the Main Building at Notre...   \n",
       "\n",
       "                                    Answer  \n",
       "0               Saint Bernadette Soubirous  \n",
       "1                a copper statue of Christ  \n",
       "2                        the Main Building  \n",
       "3  a Marian place of prayer and reflection  \n",
       "4       a golden statue of the Virgin Mary  "
      ]
     },
     "execution_count": 5,
     "metadata": {},
     "output_type": "execute_result"
    }
   ],
   "source": [
    "df_train = load_df(source_name=source_name)\n",
    "df_train.head()"
   ]
  },
  {
   "cell_type": "code",
   "execution_count": 6,
   "id": "6369876b",
   "metadata": {},
   "outputs": [
    {
     "data": {
      "text/plain": [
       "87599"
      ]
     },
     "execution_count": 6,
     "metadata": {},
     "output_type": "execute_result"
    }
   ],
   "source": [
    "len(df_train)"
   ]
  },
  {
   "cell_type": "markdown",
   "id": "6d6e8d3d",
   "metadata": {},
   "source": [
    "### Tokenized sentences"
   ]
  },
  {
   "cell_type": "code",
   "execution_count": 7,
   "id": "02f829e6",
   "metadata": {},
   "outputs": [
    {
     "name": "stderr",
     "output_type": "stream",
     "text": [
      "C:\\Users\\adgryc\\Desktop\\Udacity\\GitHub Projects\\chatbot\\data_chatbot.py:39: FutureWarning: The frame.append method is deprecated and will be removed from pandas in a future version. Use pandas.concat instead.\n",
      "  df_train.append(df_test)\n"
     ]
    },
    {
     "data": {
      "image/png": "[encoded data removed]",
      "text/plain": [
       "<Figure size 432x288 with 2 Axes>"
      ]
     },
     "metadata": {
      "needs_background": "light"
     },
     "output_type": "display_data"
    }
   ],
   "source": [
    "questions_train_raw, questions_valid_raw, answers_train_raw, answers_valid_raw = questions_answers(source_name=source_name)\n",
    "show_lengths(questions_train_raw, questions_valid_raw, answers_train_raw, answers_valid_raw)"
   ]
  },
  {
   "cell_type": "markdown",
   "id": "aafb70ed",
   "metadata": {},
   "source": [
    "### Filter data"
   ]
  },
  {
   "cell_type": "code",
   "execution_count": 8,
   "id": "af709bdb",
   "metadata": {},
   "outputs": [],
   "source": [
    "# a desicion has to be made between the next and the after next block"
   ]
  },
  {
   "cell_type": "code",
   "execution_count": 9,
   "id": "af7a2586",
   "metadata": {},
   "outputs": [],
   "source": [
    "# temp = [pair for pair in zip(questions_train_raw, answers_train_raw) if len(pair[1])>3]\n",
    "# questions_train_filt, answers_train_filt = map(list, zip(*temp))\n",
    "# temp = [pair for pair in zip(questions_valid_raw, answers_valid_raw) if len(pair[1])>3]\n",
    "# questions_valid_filt, answers_valid_filt = map(list, zip(*temp))\n",
    "# print(f\"{len(questions_train_filt)} training questions and {len(questions_valid_filt)} valid questions remain.\")"
   ]
  },
  {
   "cell_type": "code",
   "execution_count": 10,
   "id": "15bccc9c",
   "metadata": {},
   "outputs": [],
   "source": [
    "questions_train_filt = questions_train_raw[:5000]\n",
    "questions_valid_filt = questions_valid_raw[4501:5000]\n",
    "answers_train_filt = answers_train_raw[:5000]\n",
    "answers_valid_filt = answers_valid_raw[4501:5000]"
   ]
  },
  {
   "cell_type": "markdown",
   "id": "fdf6733d",
   "metadata": {},
   "source": [
    "### Create vocabularies"
   ]
  },
  {
   "cell_type": "code",
   "execution_count": 11,
   "id": "3854f49c",
   "metadata": {},
   "outputs": [
    {
     "name": "stdout",
     "output_type": "stream",
     "text": [
      "The source vocabulary contains 4797 and the target vocabulary contains 4564 words.\n"
     ]
    }
   ],
   "source": [
    "vQ = Vocab(\"Questions\")\n",
    "for sequence in [[\"<SOS>\", \"<EOS>\"]] + questions_train_filt + questions_valid_filt:\n",
    "    for token in sequence:\n",
    "        vQ.indexWord(token)\n",
    "vA = Vocab(\"Answers\")\n",
    "for sequence in [[\"<SOS>\", \"<EOS>\"]] + answers_train_filt + answers_valid_filt:\n",
    "    for token in sequence:\n",
    "        vA.indexWord(token)\n",
    "print(f\"The source vocabulary contains {len(vQ.word2index)} and the target vocabulary contains {len(vA.word2index)} words.\")"
   ]
  },
  {
   "cell_type": "markdown",
   "id": "fd45ba8b",
   "metadata": {},
   "source": [
    "### Create vectors"
   ]
  },
  {
   "cell_type": "code",
   "execution_count": 12,
   "id": "099c4960",
   "metadata": {},
   "outputs": [],
   "source": [
    "questions_train = tokenize_questions(questions_train_filt, vQ)\n",
    "answers_train = tokenize_answers(answers_train_filt, vA)\n",
    "questions_valid = tokenize_questions(questions_valid_filt, vQ)\n",
    "answers_valid = tokenize_answers(answers_valid_filt, vA)"
   ]
  },
  {
   "cell_type": "markdown",
   "id": "30580f30",
   "metadata": {},
   "source": [
    "### Create model"
   ]
  },
  {
   "cell_type": "code",
   "execution_count": 13,
   "id": "4e0e0077",
   "metadata": {},
   "outputs": [],
   "source": [
    "input_size = len(vQ.word2index)\n",
    "hidden_size = 124\n",
    "output_size = len(vA.word2index) \n",
    "\n",
    "dropout_E=0.0\n",
    "dropout_D=0.0\n",
    "teacher_forcing_ratio=0.0\n",
    "\n",
    "\n",
    "model = Seq2Seq(input_size, hidden_size, output_size)"
   ]
  },
  {
   "cell_type": "markdown",
   "id": "c6c38f01",
   "metadata": {},
   "source": [
    "### Utilize pretrained embeddings"
   ]
  },
  {
   "cell_type": "code",
   "execution_count": 14,
   "id": "c9f53fed",
   "metadata": {},
   "outputs": [],
   "source": [
    "# w2v = pretrained_w2v(init=False)\n",
    "# model = pretrain(model, vQ, vA, w2v)"
   ]
  },
  {
   "cell_type": "markdown",
   "id": "48a2a591",
   "metadata": {},
   "source": [
    "#### => most_similar is not working after adding vector in gensim"
   ]
  },
  {
   "cell_type": "markdown",
   "id": "cee75a25",
   "metadata": {},
   "source": [
    "### Train model"
   ]
  },
  {
   "cell_type": "code",
   "execution_count": 15,
   "id": "eef5abe9",
   "metadata": {},
   "outputs": [
    {
     "name": "stdout",
     "output_type": "stream",
     "text": [
      "Nothing to load at checkpoint: 'model_124.pt'\n",
      "Computing on cpu.\n",
      "\n",
      "epoch: 5/50 \ttrain_loss: 3.677 \tvalid_loss 5.182\n",
      "question: <SOS> when did beyonc start becom popular <EOS> \n",
      "answer: in the late 1990 <EOS> \n",
      "prediction: the ming <EOS> the mongol \n",
      "epoch: 10/50 \ttrain_loss: 3.062 \tvalid_loss 5.129\n",
      "question: <SOS> emmett till death spark which polit movement in the 50 <EOS> \n",
      "answer: civil right movement <EOS> \n",
      "prediction: the mongol <EOS> the \n",
      "epoch: 15/50 \ttrain_loss: 2.363 \tvalid_loss 5.273\n",
      "question: <SOS> one of the biggest fashion show in the world is name what in new york <EOS> \n",
      "answer: new york fashion week <EOS> \n",
      "prediction: new york citi depart of \n",
      "epoch: 20/50 \ttrain_loss: 1.715 \tvalid_loss 4.666\n",
      "question: <SOS> the central of intent broaden what definit beyond the 1948 one <EOS> \n",
      "answer: group ident <EOS> \n",
      "prediction: the new york \n",
      "epoch: 25/50 \ttrain_loss: 1.174 \tvalid_loss 3.486\n",
      "question: <SOS> beyonc father work as a sale manag for what compani <EOS> \n",
      "answer: xerox <EOS> \n",
      "prediction: dreamgirl <EOS> \n",
      "epoch: 30/50 \ttrain_loss: 0.714 \tvalid_loss 2.813\n",
      "question: <SOS> what kind of score did twilight princess receiv from mani video game review sourc <EOS> \n",
      "answer: perfect <EOS> \n",
      "prediction: perfect <EOS> \n",
      "epoch: 35/50 \ttrain_loss: 0.385 \tvalid_loss 1.279\n",
      "question: <SOS> who wrote that improvis is design for an audienc <EOS> \n",
      "answer: nichola temperley <EOS> \n",
      "prediction: eon product <EOS> \n",
      "epoch: 40/50 \ttrain_loss: 0.189 \tvalid_loss 0.335\n",
      "question: <SOS> how mani student at notr dame receiv the heisman trophi <EOS> \n",
      "answer: seven <EOS> \n",
      "prediction: seven <EOS> \n",
      "epoch: 45/50 \ttrain_loss: 0.095 \tvalid_loss 0.125\n",
      "question: <SOS> what wa creat at notr dame in 1962 to assist first year student <EOS> \n",
      "answer: the first year of studi program <EOS> \n",
      "prediction: the first year of studi program <EOS> \n",
      "epoch: 50/50 \ttrain_loss: 0.058 \tvalid_loss 0.066\n",
      "question: <SOS> how mani anim did mu ying captur <EOS> \n",
      "answer: 200000 <EOS> \n",
      "prediction: 200000 <EOS> \n"
     ]
    }
   ],
   "source": [
    "epochs = 50\n",
    "batch_size = 124\n",
    "print_each = 5\n",
    "lr = 0.01\n",
    "weight_decay = 0\n",
    "version = str(hidden_size)\n",
    "train(epochs, batch_size, print_each, lr, model, version, questions_train, answers_train, vQ, vA)"
   ]
  },
  {
   "cell_type": "code",
   "execution_count": 16,
   "id": "57adf069",
   "metadata": {},
   "outputs": [
    {
     "name": "stdout",
     "output_type": "stream",
     "text": [
      "Loading from checkpoint: 'model_124.pt'\n",
      "Type 'end' to finish the chat.\n",
      "'\n",
      "> What is in front of the Notre Dame Main Building?\n",
      "question: <SOS>\n",
      "predicted_answer: a copper statu of christ <EOS>\n",
      "\n",
      "> What is the Grotto at Notre Dame?\t\n",
      "question: <SOS>\n",
      "predicted_answer: a marian place of prayer and reflect <EOS>\n",
      "\n",
      "> end\n"
     ]
    }
   ],
   "source": [
    "import torch\n",
    "#version = 124\n",
    "model.load_state_dict(torch.load(f\"model_{version}.pt\", map_location=torch.device('cpu')))\n",
    "print(f\"Loading from checkpoint: 'model_{version}.pt'\")\n",
    "\n",
    "\n",
    "max_count = 0\n",
    "for answer in answers_train:\n",
    "    if len(answer) > max_count:\n",
    "        max_count = len(answer)\n",
    "\n",
    "model.eval()\n",
    "print(\"Type 'end' to finish the chat.\\n'\")\n",
    "\n",
    "    \n",
    "while (True):\n",
    "    question = input(\"> \")\n",
    "    if question.strip() == \"end\":\n",
    "        break\n",
    "    \n",
    "    apply_chatbot(model, tokenize_questions([prepare_text(question)],vQ)[0].view(-1,1), vQ, vA, max_count)"
   ]
  }
 ],
 "metadata": {
  "kernelspec": {
   "display_name": "Python 3 (ipykernel)",
   "language": "python",
   "name": "python3"
  },
  "language_info": {
   "codemirror_mode": {
    "name": "ipython",
    "version": 3
   },
   "file_extension": ".py",
   "mimetype": "text/x-python",
   "name": "python",
   "nbconvert_exporter": "python",
   "pygments_lexer": "ipython3",
   "version": "3.9.12"
  }
 },
 "nbformat": 4,
 "nbformat_minor": 5
}
