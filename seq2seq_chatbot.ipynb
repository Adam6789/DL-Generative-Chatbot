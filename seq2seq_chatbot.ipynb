{
 "cells": [
  {
   "cell_type": "markdown",
   "metadata": {},
   "source": [
    "# Sequence to Sequence Chatbot\n",
    "\n",
    "In this notebook, I first train a  Sequence to Sequence text generation architecture based chatbot on a subset of  torchtext's SQuAD 1.0 dataset which consists of question-answer-pairs. Subsequently, I confront the trained model with both questions it has been exposed to and questions it has not been exposed to demonstrate the way the model works.\n"
   ]
  },
  {
   "cell_type": "code",
   "execution_count": 2,
   "metadata": {},
   "outputs": [],
   "source": [
    "\n",
    "from src.data_chatbot import questions_answers, load_df, toTensor, show_lengths, vectorize_questions, vectorize_answers\n",
    "from src.data_chatbot import prepare_text\n",
    "from src.models_chatbot import Seq2Seq\n",
    "from src.vocab_chatbot import Vocab\n",
    "\n",
    "\n",
    "from src.train_chatbot import train\n",
    "from src.apply_chatbot import apply_chatbot\n",
    "\n"
   ]
  },
  {
   "cell_type": "markdown",
   "metadata": {},
   "source": [
    "### Tests"
   ]
  },
  {
   "cell_type": "code",
   "execution_count": null,
   "metadata": {},
   "outputs": [],
   "source": [
    "!python -m pytest -vv src/tests_chatbot.py"
   ]
  },
  {
   "cell_type": "markdown",
   "metadata": {},
   "source": [
    "### Inspect raw data"
   ]
  },
  {
   "cell_type": "code",
   "execution_count": null,
   "metadata": {},
   "outputs": [],
   "source": [
    "df_train = load_df()\n",
    "df_train.head()"
   ]
  },
  {
   "cell_type": "markdown",
   "metadata": {},
   "source": [
    "### Tokenize data"
   ]
  },
  {
   "cell_type": "code",
   "execution_count": null,
   "metadata": {},
   "outputs": [],
   "source": [
    "questions, answers = questions_answers(5000)\n",
    "show_lengths(questions, answers)"
   ]
  },
  {
   "cell_type": "markdown",
   "metadata": {},
   "source": [
    "### Create vocabularies"
   ]
  },
  {
   "cell_type": "code",
   "execution_count": null,
   "metadata": {},
   "outputs": [],
   "source": [
    "vQ = Vocab(\"Questions\")\n",
    "for sequence in [[\"<SOS>\", \"<EOS>\"]] + questions:\n",
    "    for token in sequence:\n",
    "        vQ.indexWord(token)\n",
    "vA = Vocab(\"Answers\")\n",
    "for sequence in [[\"<SOS>\", \"<EOS>\"]] + answers:\n",
    "    for token in sequence:\n",
    "        vA.indexWord(token)\n",
    "print(f\"The source vocabulary contains {len(vQ.word2index)} and the target vocabulary contains {len(vA.word2index)} words.\")"
   ]
  },
  {
   "cell_type": "markdown",
   "metadata": {},
   "source": [
    "### Create vectors"
   ]
  },
  {
   "cell_type": "code",
   "execution_count": null,
   "metadata": {},
   "outputs": [],
   "source": [
    "vectorized_questions = vectorize_questions(questions, vQ)\n",
    "vectorized_answers = vectorize_answers(answers, vA)\n",
    "print('Vectorization completed.')\n"
   ]
  },
  {
   "cell_type": "markdown",
   "metadata": {},
   "source": [
    "### Create model"
   ]
  },
  {
   "cell_type": "code",
   "execution_count": null,
   "metadata": {},
   "outputs": [],
   "source": [
    "input_size = len(vQ.word2index)\n",
    "hidden_size = 124\n",
    "output_size = len(vA.word2index) \n",
    "\n",
    "dropout_E=0.0\n",
    "dropout_D=0.0\n",
    "teacher_forcing_ratio=0.0\n",
    "\n",
    "\n",
    "model = Seq2Seq(input_size, hidden_size, output_size)"
   ]
  },
  {
   "cell_type": "markdown",
   "metadata": {},
   "source": [
    "### Train model"
   ]
  },
  {
   "cell_type": "code",
   "execution_count": null,
   "metadata": {},
   "outputs": [],
   "source": [
    "epochs = 30\n",
    "batch_size = 124\n",
    "print_each = 1\n",
    "lr = 0.01\n",
    "weight_decay = 0\n",
    "version = str(hidden_size)\n",
    "train(epochs, batch_size, print_each, lr, model, version, vectorized_questions, vectorized_answers, vQ, vA)"
   ]
  },
  {
   "cell_type": "markdown",
   "metadata": {},
   "source": [
    "### Apply model"
   ]
  },
  {
   "cell_type": "code",
   "execution_count": null,
   "metadata": {},
   "outputs": [],
   "source": [
    "import torch\n",
    "version = 124\n",
    "model.load_state_dict(torch.load(f\"model_{version}.pt\", map_location=torch.device('cpu')))\n",
    "print(f\"Loading from checkpoint: 'model_{version}.pt'\")\n",
    "\n",
    "\n",
    "max_count = 0\n",
    "for answer in answers:\n",
    "    if len(answer) > max_count:\n",
    "        max_count = len(answer)\n",
    "\n",
    "model.eval()\n",
    "string2stop = 'quit'\n",
    "print(f\"Type {string2stop} to finish the chat.\\n\")\n",
    "\n",
    "    \n",
    "while (True):\n",
    "    question = input(\"> \")\n",
    "    if question.strip() == string2stop:\n",
    "        break\n",
    "    \n",
    "    apply_chatbot(model, vectorize_questions([prepare_text(question)],vQ)[0].view(-1,1), vQ, vA, max_count)"
   ]
  },
  {
   "cell_type": "code",
   "execution_count": null,
   "metadata": {},
   "outputs": [],
   "source": []
  }
 ],
 "metadata": {
  "kernelspec": {
   "display_name": "Python 3",
   "language": "python",
   "name": "python3"
  },
  "language_info": {
   "codemirror_mode": {
    "name": "ipython",
    "version": 3
   },
   "file_extension": ".py",
   "mimetype": "text/x-python",
   "name": "python",
   "nbconvert_exporter": "python",
   "pygments_lexer": "ipython3",
   "version": "3.7.3"
  }
 },
 "nbformat": 4,
 "nbformat_minor": 5
}
