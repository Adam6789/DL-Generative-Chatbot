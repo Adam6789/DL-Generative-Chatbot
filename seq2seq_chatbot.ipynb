{
 "cells": [
  {
   "cell_type": "markdown",
   "metadata": {},
   "source": [
    "# Sequence to Sequence Chatbot\n",
    "\n",
    "In this notebook, I first train a  Sequence to Sequence text generation architecture based chatbot on a subset of  torchtext's SQuAD 1.0 dataset which consists of question-answer-pairs. Subsequently, I confront the trained model with both questions it has been exposed to and questions it has not been exposed to demonstrate the way the model works.\n",
    "\n",
    "### dependencies:"
   ]
  },
  {
   "cell_type": "markdown",
   "metadata": {},
   "source": [
    "# LSTM Bot\n",
    "\n",
    "## Project Overview\n",
    "\n",
    "In this project, you will build a chatbot that can converse with you at the command line. The chatbot will use a Sequence to Sequence text generation architecture with an LSTM as it's memory unit. You will also learn to use pretrained word embeddings to improve the performance of the model. At the conclusion of the project, you will be able to show your chatbot to potential employers.\n",
    "\n",
    "Additionally, you have the option to use pretrained word embeddings in your model. We have loaded Brown Embeddings from Gensim in the starter code below. You can compare the performance of your model with pre-trained embeddings against a model without the embeddings.\n",
    "\n",
    "\n",
    "\n",
    "---\n",
    "\n",
    "\n",
    "\n",
    "A sequence to sequence model (Seq2Seq) has two components:\n",
    "- An Encoder consisting of an embedding layer and LSTM unit.\n",
    "- A Decoder consisting of an embedding layer, LSTM unit, and linear output unit.\n",
    "\n",
    "The Seq2Seq model works by accepting an input into the Encoder, passing the hidden state from the Encoder to the Decoder, which the Decoder uses to output a series of token predictions.\n",
    "\n",
    "## Dependencies\n",
    "\n",
    "- Pytorch\n",
    "- Numpy\n",
    "- Pandas\n",
    "- NLTK\n",
    "- Gzip\n",
    "- Gensim\n",
    "\n",
    "\n",
    "Please choose a dataset from the Torchtext website. We recommend looking at the Squad dataset first. Here is a link to the website where you can view your options:\n",
    "\n",
    "- https://pytorch.org/text/stable/datasets.html\n",
    "\n",
    "\n",
    "\n"
   ]
  },
  {
   "cell_type": "code",
   "execution_count": 1,
   "metadata": {},
   "outputs": [
    {
     "name": "stderr",
     "output_type": "stream",
     "text": [
      "C:\\Users\\Adam\\Anaconda3\\lib\\site-packages\\sklearn\\feature_extraction\\image.py:167: DeprecationWarning: `np.int` is a deprecated alias for the builtin `int`. To silence this warning, use `int` by itself. Doing this will not modify any behavior and is safe. When replacing `np.int`, you may wish to use e.g. `np.int64` or `np.int32` to specify the precision. If you wish to review your current use, check the release note link for additional information.\n",
      "Deprecated in NumPy 1.20; for more details and guidance: https://numpy.org/devdocs/release/1.20.0-notes.html#deprecations\n",
      "  dtype=np.int):\n",
      "C:\\Users\\Adam\\Anaconda3\\lib\\site-packages\\sklearn\\linear_model\\least_angle.py:35: DeprecationWarning: `np.float` is a deprecated alias for the builtin `float`. To silence this warning, use `float` by itself. Doing this will not modify any behavior and is safe. If you specifically wanted the numpy scalar type, use `np.float64` here.\n",
      "Deprecated in NumPy 1.20; for more details and guidance: https://numpy.org/devdocs/release/1.20.0-notes.html#deprecations\n",
      "  eps=np.finfo(np.float).eps,\n",
      "C:\\Users\\Adam\\Anaconda3\\lib\\site-packages\\sklearn\\linear_model\\least_angle.py:597: DeprecationWarning: `np.float` is a deprecated alias for the builtin `float`. To silence this warning, use `float` by itself. Doing this will not modify any behavior and is safe. If you specifically wanted the numpy scalar type, use `np.float64` here.\n",
      "Deprecated in NumPy 1.20; for more details and guidance: https://numpy.org/devdocs/release/1.20.0-notes.html#deprecations\n",
      "  eps=np.finfo(np.float).eps, copy_X=True, fit_path=True,\n",
      "C:\\Users\\Adam\\Anaconda3\\lib\\site-packages\\sklearn\\linear_model\\least_angle.py:836: DeprecationWarning: `np.float` is a deprecated alias for the builtin `float`. To silence this warning, use `float` by itself. Doing this will not modify any behavior and is safe. If you specifically wanted the numpy scalar type, use `np.float64` here.\n",
      "Deprecated in NumPy 1.20; for more details and guidance: https://numpy.org/devdocs/release/1.20.0-notes.html#deprecations\n",
      "  eps=np.finfo(np.float).eps, copy_X=True, fit_path=True,\n",
      "C:\\Users\\Adam\\Anaconda3\\lib\\site-packages\\sklearn\\linear_model\\least_angle.py:862: DeprecationWarning: `np.float` is a deprecated alias for the builtin `float`. To silence this warning, use `float` by itself. Doing this will not modify any behavior and is safe. If you specifically wanted the numpy scalar type, use `np.float64` here.\n",
      "Deprecated in NumPy 1.20; for more details and guidance: https://numpy.org/devdocs/release/1.20.0-notes.html#deprecations\n",
      "  eps=np.finfo(np.float).eps, positive=False):\n",
      "C:\\Users\\Adam\\Anaconda3\\lib\\site-packages\\sklearn\\linear_model\\least_angle.py:1097: DeprecationWarning: `np.float` is a deprecated alias for the builtin `float`. To silence this warning, use `float` by itself. Doing this will not modify any behavior and is safe. If you specifically wanted the numpy scalar type, use `np.float64` here.\n",
      "Deprecated in NumPy 1.20; for more details and guidance: https://numpy.org/devdocs/release/1.20.0-notes.html#deprecations\n",
      "  max_n_alphas=1000, n_jobs=None, eps=np.finfo(np.float).eps,\n",
      "C:\\Users\\Adam\\Anaconda3\\lib\\site-packages\\sklearn\\linear_model\\least_angle.py:1344: DeprecationWarning: `np.float` is a deprecated alias for the builtin `float`. To silence this warning, use `float` by itself. Doing this will not modify any behavior and is safe. If you specifically wanted the numpy scalar type, use `np.float64` here.\n",
      "Deprecated in NumPy 1.20; for more details and guidance: https://numpy.org/devdocs/release/1.20.0-notes.html#deprecations\n",
      "  max_n_alphas=1000, n_jobs=None, eps=np.finfo(np.float).eps,\n",
      "C:\\Users\\Adam\\Anaconda3\\lib\\site-packages\\sklearn\\linear_model\\least_angle.py:1480: DeprecationWarning: `np.float` is a deprecated alias for the builtin `float`. To silence this warning, use `float` by itself. Doing this will not modify any behavior and is safe. If you specifically wanted the numpy scalar type, use `np.float64` here.\n",
      "Deprecated in NumPy 1.20; for more details and guidance: https://numpy.org/devdocs/release/1.20.0-notes.html#deprecations\n",
      "  eps=np.finfo(np.float).eps, copy_X=True, positive=False):\n",
      "C:\\Users\\Adam\\Anaconda3\\lib\\site-packages\\sklearn\\linear_model\\randomized_l1.py:152: DeprecationWarning: `np.float` is a deprecated alias for the builtin `float`. To silence this warning, use `float` by itself. Doing this will not modify any behavior and is safe. If you specifically wanted the numpy scalar type, use `np.float64` here.\n",
      "Deprecated in NumPy 1.20; for more details and guidance: https://numpy.org/devdocs/release/1.20.0-notes.html#deprecations\n",
      "  precompute=False, eps=np.finfo(np.float).eps,\n",
      "C:\\Users\\Adam\\Anaconda3\\lib\\site-packages\\sklearn\\linear_model\\randomized_l1.py:320: DeprecationWarning: `np.float` is a deprecated alias for the builtin `float`. To silence this warning, use `float` by itself. Doing this will not modify any behavior and is safe. If you specifically wanted the numpy scalar type, use `np.float64` here.\n",
      "Deprecated in NumPy 1.20; for more details and guidance: https://numpy.org/devdocs/release/1.20.0-notes.html#deprecations\n",
      "  eps=np.finfo(np.float).eps, random_state=None,\n",
      "C:\\Users\\Adam\\Anaconda3\\lib\\site-packages\\sklearn\\linear_model\\randomized_l1.py:580: DeprecationWarning: `np.float` is a deprecated alias for the builtin `float`. To silence this warning, use `float` by itself. Doing this will not modify any behavior and is safe. If you specifically wanted the numpy scalar type, use `np.float64` here.\n",
      "Deprecated in NumPy 1.20; for more details and guidance: https://numpy.org/devdocs/release/1.20.0-notes.html#deprecations\n",
      "  eps=4 * np.finfo(np.float).eps, n_jobs=None,\n"
     ]
    }
   ],
   "source": [
    "\n",
    "from src.data_chatbot import questions_answers, load_df, toTensor, show_lengths, vectorize_questions, vectorize_answers\n",
    "from src.data_chatbot import prepare_text\n",
    "from src.models_chatbot import Seq2Seq\n",
    "from src.vocab_chatbot import Vocab\n",
    "\n",
    "\n",
    "from src.train_chatbot import pretrain, train\n",
    "from src.apply_chatbot import apply_chatbot\n",
    "\n"
   ]
  },
  {
   "cell_type": "markdown",
   "metadata": {},
   "source": [
    "### Tests"
   ]
  },
  {
   "cell_type": "code",
   "execution_count": 2,
   "metadata": {},
   "outputs": [
    {
     "name": "stdout",
     "output_type": "stream",
     "text": [
      "============================= test session starts =============================\n",
      "platform win32 -- Python 3.7.3, pytest-4.3.1, py-1.8.0, pluggy-0.9.0 -- C:\\Users\\Adam\\Anaconda3\\python.exe\n",
      "cachedir: .pytest_cache\n",
      "rootdir: C:\\Users\\Adam\\Desktop\\Udacity\\DL-Generative-Chatbot, inifile:\n",
      "plugins: remotedata-0.3.1, openfiles-0.3.2, doctestplus-0.3.0, arraydiff-0.3\n",
      "collecting ... collected 1 item\n",
      "\n",
      "src/tests_chatbot.py::test_seq2seq_forward PASSED                        [100%]\n",
      "\n",
      "========================== 1 passed in 3.06 seconds ===========================\n"
     ]
    }
   ],
   "source": [
    "!python -m pytest -vv src/tests_chatbot.py"
   ]
  },
  {
   "cell_type": "markdown",
   "metadata": {},
   "source": [
    "### Inspect raw data"
   ]
  },
  {
   "cell_type": "code",
   "execution_count": 3,
   "metadata": {},
   "outputs": [
    {
     "data": {
      "text/html": [
       "<div>\n",
       "<style scoped>\n",
       "    .dataframe tbody tr th:only-of-type {\n",
       "        vertical-align: middle;\n",
       "    }\n",
       "\n",
       "    .dataframe tbody tr th {\n",
       "        vertical-align: top;\n",
       "    }\n",
       "\n",
       "    .dataframe thead th {\n",
       "        text-align: right;\n",
       "    }\n",
       "</style>\n",
       "<table border=\"1\" class=\"dataframe\">\n",
       "  <thead>\n",
       "    <tr style=\"text-align: right;\">\n",
       "      <th></th>\n",
       "      <th>Question</th>\n",
       "      <th>Answer</th>\n",
       "    </tr>\n",
       "  </thead>\n",
       "  <tbody>\n",
       "    <tr>\n",
       "      <th>0</th>\n",
       "      <td>To whom did the Virgin Mary allegedly appear i...</td>\n",
       "      <td>Saint Bernadette Soubirous</td>\n",
       "    </tr>\n",
       "    <tr>\n",
       "      <th>1</th>\n",
       "      <td>What is in front of the Notre Dame Main Building?</td>\n",
       "      <td>a copper statue of Christ</td>\n",
       "    </tr>\n",
       "    <tr>\n",
       "      <th>2</th>\n",
       "      <td>The Basilica of the Sacred heart at Notre Dame...</td>\n",
       "      <td>the Main Building</td>\n",
       "    </tr>\n",
       "    <tr>\n",
       "      <th>3</th>\n",
       "      <td>What is the Grotto at Notre Dame?</td>\n",
       "      <td>a Marian place of prayer and reflection</td>\n",
       "    </tr>\n",
       "    <tr>\n",
       "      <th>4</th>\n",
       "      <td>What sits on top of the Main Building at Notre...</td>\n",
       "      <td>a golden statue of the Virgin Mary</td>\n",
       "    </tr>\n",
       "  </tbody>\n",
       "</table>\n",
       "</div>"
      ],
      "text/plain": [
       "                                            Question  \\\n",
       "0  To whom did the Virgin Mary allegedly appear i...   \n",
       "1  What is in front of the Notre Dame Main Building?   \n",
       "2  The Basilica of the Sacred heart at Notre Dame...   \n",
       "3                  What is the Grotto at Notre Dame?   \n",
       "4  What sits on top of the Main Building at Notre...   \n",
       "\n",
       "                                    Answer  \n",
       "0               Saint Bernadette Soubirous  \n",
       "1                a copper statue of Christ  \n",
       "2                        the Main Building  \n",
       "3  a Marian place of prayer and reflection  \n",
       "4       a golden statue of the Virgin Mary  "
      ]
     },
     "execution_count": 3,
     "metadata": {},
     "output_type": "execute_result"
    }
   ],
   "source": [
    "df_train = load_df()\n",
    "df_train.head()"
   ]
  },
  {
   "cell_type": "markdown",
   "metadata": {},
   "source": [
    "### Tokenize data"
   ]
  },
  {
   "cell_type": "code",
   "execution_count": 4,
   "metadata": {},
   "outputs": [
    {
     "data": {
      "image/png": "[encoded data removed]",
      "text/plain": [
       "<Figure size 432x288 with 2 Axes>"
      ]
     },
     "metadata": {
      "needs_background": "light"
     },
     "output_type": "display_data"
    }
   ],
   "source": [
    "questions, answers = questions_answers(5000)\n",
    "show_lengths(questions, answers)"
   ]
  },
  {
   "cell_type": "markdown",
   "metadata": {},
   "source": [
    "### Create vocabularies"
   ]
  },
  {
   "cell_type": "code",
   "execution_count": 5,
   "metadata": {},
   "outputs": [
    {
     "name": "stdout",
     "output_type": "stream",
     "text": [
      "The source vocabulary contains 4513 and the target vocabulary contains 4074 words.\n"
     ]
    }
   ],
   "source": [
    "vQ = Vocab(\"Questions\")\n",
    "for sequence in [[\"<SOS>\", \"<EOS>\"]] + questions:\n",
    "    for token in sequence:\n",
    "        vQ.indexWord(token)\n",
    "vA = Vocab(\"Answers\")\n",
    "for sequence in [[\"<SOS>\", \"<EOS>\"]] + answers:\n",
    "    for token in sequence:\n",
    "        vA.indexWord(token)\n",
    "print(f\"The source vocabulary contains {len(vQ.word2index)} and the target vocabulary contains {len(vA.word2index)} words.\")"
   ]
  },
  {
   "cell_type": "markdown",
   "metadata": {},
   "source": [
    "### Create vectors"
   ]
  },
  {
   "cell_type": "code",
   "execution_count": 6,
   "metadata": {},
   "outputs": [
    {
     "name": "stdout",
     "output_type": "stream",
     "text": [
      "Tokenization completed.\n"
     ]
    }
   ],
   "source": [
    "vectorized_questions = vectorize_questions(questions, vQ)\n",
    "vectorized_answers = vectorize_answers(answers, vA)\n",
    "print('Vectorization completed.')\n"
   ]
  },
  {
   "cell_type": "markdown",
   "metadata": {},
   "source": [
    "### Create model"
   ]
  },
  {
   "cell_type": "code",
   "execution_count": 7,
   "metadata": {},
   "outputs": [],
   "source": [
    "input_size = len(vQ.word2index)\n",
    "hidden_size = 124\n",
    "output_size = len(vA.word2index) \n",
    "\n",
    "dropout_E=0.0\n",
    "dropout_D=0.0\n",
    "teacher_forcing_ratio=0.0\n",
    "\n",
    "\n",
    "model = Seq2Seq(input_size, hidden_size, output_size)"
   ]
  },
  {
   "cell_type": "markdown",
   "metadata": {},
   "source": [
    "### Train model"
   ]
  },
  {
   "cell_type": "code",
   "execution_count": 8,
   "metadata": {},
   "outputs": [
    {
     "name": "stdout",
     "output_type": "stream",
     "text": [
      "Nothing to load at checkpoint: 'model_124.pt'\n",
      "Computing on cpu.\n",
      "\n",
      "epoch: 1/30 \ttrain_loss: 6.053 \tvalid_loss 6.394\n",
      "question: <SOS> in what decad did the crime rate drop significantli <EOS> \n",
      "answer: 1990 <EOS> \n",
      "prediction: the <EOS>  \n",
      "\n",
      "epoch: 2/30 \ttrain_loss: 5.452 \tvalid_loss 7.204\n",
      "question: <SOS> how much of the market did ipod claim as of januari 2007 <EOS> \n",
      "answer: 727 <EOS> \n",
      "prediction: the the  \n",
      "\n",
      "epoch: 3/30 \ttrain_loss: 5.291 \tvalid_loss 6.945\n",
      "question: <SOS> who wa the notr dame presid that preced john jenkin <EOS> \n",
      "answer: malloy <EOS> \n",
      "prediction: the new  \n",
      "\n",
      "epoch: 4/30 \ttrain_loss: 5.17 \tvalid_loss 7.344\n",
      "question: <SOS> what is a worri of use phage <EOS> \n",
      "answer: phage will infect good bacteria <EOS> \n",
      "prediction: the ming of the ming of  \n",
      "\n",
      "epoch: 5/30 \ttrain_loss: 5.053 \tvalid_loss 7.702\n",
      "question: <SOS> beyonc open a cosmetolog center in what locat <EOS> \n",
      "answer: brooklyn phoenix hous <EOS> \n",
      "prediction: the new york citi  \n",
      "\n",
      "epoch: 6/30 \ttrain_loss: 4.907 \tvalid_loss 8.218\n",
      "question: <SOS> what individu live at fatima hous at notr dame <EOS> \n",
      "answer: retir priest and brother <EOS> \n",
      "prediction: the new york citi <EOS>  \n",
      "\n",
      "epoch: 7/30 \ttrain_loss: 4.767 \tvalid_loss 7.88\n",
      "question: <SOS> in what film did a parodi of the win one for the gipper speech appear <EOS> \n",
      "answer: airplan <EOS> \n",
      "prediction: the ming  \n",
      "\n",
      "epoch: 8/30 \ttrain_loss: 4.632 \tvalid_loss 8.146\n",
      "question: <SOS> which journalist consid spectr the worst jame bond movi in three decad <EOS> \n",
      "answer: scott mendelson <EOS> \n",
      "prediction: the ming dynasti  \n",
      "\n",
      "epoch: 9/30 \ttrain_loss: 4.498 \tvalid_loss 7.475\n",
      "question: <SOS> who set up an onlin site to focu on blind spot in recoveri <EOS> \n",
      "answer: news agenc xinhua <EOS> \n",
      "prediction: the mongol <EOS> <EOS>  \n",
      "\n",
      "epoch: 10/30 \ttrain_loss: 4.302 \tvalid_loss 7.664\n",
      "question: <SOS> what wa the name of the stream servic <EOS> \n",
      "answer: tidal <EOS> \n",
      "prediction: the ming  \n",
      "\n",
      "epoch: 11/30 \ttrain_loss: 4.144 \tvalid_loss 8.376\n",
      "question: <SOS> beyonc is contribut to which fooddon campaign <EOS> \n",
      "answer: miss a meal <EOS> \n",
      "prediction: the ming dynasti <EOS>  \n",
      "\n",
      "epoch: 12/30 \ttrain_loss: 3.976 \tvalid_loss 8.706\n",
      "question: <SOS> the duchi of warsaw wa creat by whom <EOS> \n",
      "answer: napoleon <EOS> \n",
      "prediction: the ming  \n",
      "\n",
      "epoch: 13/30 \ttrain_loss: 3.813 \tvalid_loss 8.183\n",
      "question: <SOS> whi are the build so shoddili built <EOS> \n",
      "answer: builder cut corner <EOS> \n",
      "prediction: a song to rememb  \n",
      "\n",
      "epoch: 14/30 \ttrain_loss: 3.619 \tvalid_loss 7.655\n",
      "question: <SOS> what three other musician were develop the new genr <EOS> \n",
      "answer: liszt clementi and moschel <EOS> \n",
      "prediction: the mongol and princ mass  \n",
      "\n",
      "epoch: 15/30 \ttrain_loss: 3.444 \tvalid_loss 7.15\n",
      "question: <SOS> how mani of the team were from the polic <EOS> \n",
      "answer: 22 <EOS> \n",
      "prediction: over two  \n",
      "\n",
      "epoch: 16/30 \ttrain_loss: 3.299 \tvalid_loss 7.423\n",
      "question: <SOS> a program in lo angel believ that with 1 billion citi temperatur could be reduc by approxim how mani degre in celsiu <EOS> \n",
      "answer: 3 <EOS> \n",
      "prediction: over two  \n",
      "\n",
      "epoch: 17/30 \ttrain_loss: 3.142 \tvalid_loss 7.639\n",
      "question: <SOS> the largest municip healthcar in the us is what <EOS> \n",
      "answer: new york citi health and hospit corpor <EOS> \n",
      "prediction: the new york time <EOS> <EOS> <EOS> <EOS>  \n",
      "\n",
      "epoch: 18/30 \ttrain_loss: 2.993 \tvalid_loss 6.473\n",
      "question: <SOS> what is the popul of new york citi as of 2014 <EOS> \n",
      "answer: 8491079 <EOS> \n",
      "prediction: georg w  \n",
      "\n",
      "epoch: 19/30 \ttrain_loss: 2.855 \tvalid_loss 7.52\n",
      "question: <SOS> what is the notr dame fight song <EOS> \n",
      "answer: notr dame victori march <EOS> \n",
      "prediction: the world health organ <EOS>  \n",
      "\n",
      "epoch: 20/30 \ttrain_loss: 2.717 \tvalid_loss 6.975\n",
      "question: <SOS> which atlant writer gave a neg review of spectr <EOS> \n",
      "answer: christoph orr <EOS> \n",
      "prediction: franz oberhaus <EOS>  \n",
      "\n",
      "epoch: 21/30 \ttrain_loss: 2.566 \tvalid_loss 6.694\n",
      "question: <SOS> who did beyonc star with in the movi austin power in goldmemb <EOS> \n",
      "answer: mike myer <EOS> \n",
      "prediction: the mongol <EOS>  \n",
      "\n",
      "epoch: 22/30 \ttrain_loss: 2.432 \tvalid_loss 6.115\n",
      "question: <SOS> the airtrain ha a station at what airport <EOS> \n",
      "answer: jfk intern airport <EOS> \n",
      "prediction: romant era <EOS> <EOS>  \n",
      "\n",
      "epoch: 23/30 \ttrain_loss: 2.301 \tvalid_loss 6.427\n",
      "question: <SOS> what year did the infecti diseas societi of america say that product of new antibiot doe not keep up with resist <EOS> \n",
      "answer: 2013 <EOS> \n",
      "prediction: 2013 <EOS>  \n",
      "\n",
      "epoch: 24/30 \ttrain_loss: 2.151 \tvalid_loss 5.971\n",
      "question: <SOS> how mani grammi award did crazi in love get <EOS> \n",
      "answer: earn two grammi award <EOS> \n",
      "prediction: five <EOS> <EOS> <EOS> <EOS>  \n",
      "\n",
      "epoch: 25/30 \ttrain_loss: 2.022 \tvalid_loss 5.829\n",
      "question: <SOS> who sat on a lower platform than the tibetan cleric <EOS> \n",
      "answer: kublai <EOS> \n",
      "prediction: the ming  \n",
      "\n",
      "epoch: 26/30 \ttrain_loss: 1.902 \tvalid_loss 5.034\n",
      "question: <SOS> how mani squar mile are water in nyc <EOS> \n",
      "answer: 1641 <EOS> \n",
      "prediction: over two  \n",
      "\n",
      "epoch: 27/30 \ttrain_loss: 1.753 \tvalid_loss 5.893\n",
      "question: <SOS> what do enemi do to defeat companion <EOS> \n",
      "answer: react <EOS> \n",
      "prediction: brooklyn <EOS>  \n",
      "\n",
      "epoch: 28/30 \ttrain_loss: 1.634 \tvalid_loss 4.785\n",
      "question: <SOS> how much of appl revenu result from purchas of laptop comput in q1 2008 <EOS> \n",
      "answer: 21 <EOS> \n",
      "prediction: 30 <EOS>  \n",
      "\n",
      "epoch: 29/30 \ttrain_loss: 1.513 \tvalid_loss 4.553\n",
      "question: <SOS> what wa the valu of appl cash asset at the end of 2007 <EOS> \n",
      "answer: 154 billion <EOS> \n",
      "prediction: 154 billion <EOS>  \n",
      "\n",
      "epoch: 30/30 \ttrain_loss: 1.379 \tvalid_loss 4.267\n",
      "question: <SOS> in which era wa frédéric leav a legaci of as a lead symbol <EOS> \n",
      "answer: romant era <EOS> \n",
      "prediction: romant era <EOS>  \n",
      "\n"
     ]
    }
   ],
   "source": [
    "epochs = 30\n",
    "batch_size = 124\n",
    "print_each = 1\n",
    "lr = 0.01\n",
    "weight_decay = 0\n",
    "version = str(hidden_size)\n",
    "train(epochs, batch_size, print_each, lr, model, version, vectorized_questions, vectorized_answers, vQ, vA)"
   ]
  },
  {
   "cell_type": "markdown",
   "metadata": {},
   "source": [
    "### Apply model"
   ]
  },
  {
   "cell_type": "code",
   "execution_count": 12,
   "metadata": {},
   "outputs": [
    {
     "name": "stdout",
     "output_type": "stream",
     "text": [
      "Loading from checkpoint: 'model_124.pt'\n",
      "Type quit to finish the chat.\n",
      "\n",
      "> What is in front of the Notre Dame Main Building?\t\n",
      "<  a copper statu of christ <EOS>\n",
      "\n",
      "> What is the Grotto at Notre Dame?\n",
      "<  a marian place of prayer and reflect <EOS>\n",
      "\n",
      "> And how do you deal with an unknown question?\n",
      "<  four <EOS>\n",
      "\n",
      "> And this one?\n",
      "<  the mr carter show <EOS>\n",
      "\n",
      "> quit\n"
     ]
    }
   ],
   "source": [
    "import torch\n",
    "version = 124\n",
    "model.load_state_dict(torch.load(f\"model_{version}.pt\", map_location=torch.device('cpu')))\n",
    "print(f\"Loading from checkpoint: 'model_{version}.pt'\")\n",
    "\n",
    "\n",
    "max_count = 0\n",
    "for answer in answers:\n",
    "    if len(answer) > max_count:\n",
    "        max_count = len(answer)\n",
    "\n",
    "model.eval()\n",
    "string2stop = 'quit'\n",
    "print(f\"Type {string2stop} to finish the chat.\\n\")\n",
    "\n",
    "    \n",
    "while (True):\n",
    "    question = input(\"> \")\n",
    "    if question.strip() == string2stop:\n",
    "        break\n",
    "    \n",
    "    apply_chatbot(model, vectorize_questions([prepare_text(question)],vQ)[0].view(-1,1), vQ, vA, max_count)"
   ]
  },
  {
   "cell_type": "code",
   "execution_count": null,
   "metadata": {},
   "outputs": [],
   "source": []
  }
 ],
 "metadata": {
  "kernelspec": {
   "display_name": "Python 3",
   "language": "python",
   "name": "python3"
  }
 },
 "nbformat": 4,
 "nbformat_minor": 5
}
